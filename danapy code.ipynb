{
 "cells": [
  {
   "cell_type": "code",
   "execution_count": 1,
   "id": "fcddae18",
   "metadata": {},
   "outputs": [
    {
     "name": "stdout",
     "output_type": "stream",
     "text": [
      "Instagram ID For Marymount: marymountu\n",
      "Facebook ID For Marymount: marymount.university\n",
      "Twitter ID For Marymount: marymountu\n"
     ]
    }
   ],
   "source": [
    "\n",
    "import requests\n",
    "import re\n",
    "\n",
    "response=requests.get('https://marymount.edu/')\n",
    "text=response.text\n",
    "classes=re.findall(r'<a target=\"_blank\" href=\".*://.*.com/(.*)\" title=\".*\" class=\"soical-icon .*\">&nbsp;</a>' ,text)\n",
    "classes = list(classes)\n",
    "print(\"Instagram ID For Marymount: \"+ str(classes[0]))\n",
    "print(\"Facebook ID For Marymount: \"+ str(classes[1]))\n",
    "print(\"Twitter ID For Marymount: \"+ str(classes[2]))\n"
   ]
  },
  {
   "cell_type": "code",
   "execution_count": 10,
   "id": "f65de883",
   "metadata": {},
   "outputs": [
    {
     "data": {
      "text/html": [
       "<div>\n",
       "<style scoped>\n",
       "    .dataframe tbody tr th:only-of-type {\n",
       "        vertical-align: middle;\n",
       "    }\n",
       "\n",
       "    .dataframe tbody tr th {\n",
       "        vertical-align: top;\n",
       "    }\n",
       "\n",
       "    .dataframe thead th {\n",
       "        text-align: right;\n",
       "    }\n",
       "</style>\n",
       "<table border=\"1\" class=\"dataframe\">\n",
       "  <thead>\n",
       "    <tr style=\"text-align: right;\">\n",
       "      <th></th>\n",
       "      <th>work_year</th>\n",
       "      <th>experience_level</th>\n",
       "      <th>job_title</th>\n",
       "      <th>salary</th>\n",
       "      <th>remote_ratio</th>\n",
       "      <th>company_size</th>\n",
       "    </tr>\n",
       "  </thead>\n",
       "  <tbody>\n",
       "    <tr>\n",
       "      <th>0</th>\n",
       "      <td>2022</td>\n",
       "      <td>SE</td>\n",
       "      <td>Data Science Lead</td>\n",
       "      <td>165000</td>\n",
       "      <td>50</td>\n",
       "      <td>S</td>\n",
       "    </tr>\n",
       "    <tr>\n",
       "      <th>1</th>\n",
       "      <td>2022</td>\n",
       "      <td>SE</td>\n",
       "      <td>Data Engineer</td>\n",
       "      <td>185900</td>\n",
       "      <td>0</td>\n",
       "      <td>M</td>\n",
       "    </tr>\n",
       "    <tr>\n",
       "      <th>2</th>\n",
       "      <td>2022</td>\n",
       "      <td>SE</td>\n",
       "      <td>Data Engineer</td>\n",
       "      <td>129300</td>\n",
       "      <td>0</td>\n",
       "      <td>M</td>\n",
       "    </tr>\n",
       "    <tr>\n",
       "      <th>3</th>\n",
       "      <td>2022</td>\n",
       "      <td>SE</td>\n",
       "      <td>Data Analyst</td>\n",
       "      <td>169000</td>\n",
       "      <td>0</td>\n",
       "      <td>M</td>\n",
       "    </tr>\n",
       "    <tr>\n",
       "      <th>4</th>\n",
       "      <td>2022</td>\n",
       "      <td>SE</td>\n",
       "      <td>Data Analyst</td>\n",
       "      <td>110600</td>\n",
       "      <td>0</td>\n",
       "      <td>M</td>\n",
       "    </tr>\n",
       "    <tr>\n",
       "      <th>...</th>\n",
       "      <td>...</td>\n",
       "      <td>...</td>\n",
       "      <td>...</td>\n",
       "      <td>...</td>\n",
       "      <td>...</td>\n",
       "      <td>...</td>\n",
       "    </tr>\n",
       "    <tr>\n",
       "      <th>783</th>\n",
       "      <td>2020</td>\n",
       "      <td>SE</td>\n",
       "      <td>Data Scientist</td>\n",
       "      <td>412000</td>\n",
       "      <td>100</td>\n",
       "      <td>L</td>\n",
       "    </tr>\n",
       "    <tr>\n",
       "      <th>784</th>\n",
       "      <td>2021</td>\n",
       "      <td>MI</td>\n",
       "      <td>Principal Data Scientist</td>\n",
       "      <td>151000</td>\n",
       "      <td>100</td>\n",
       "      <td>L</td>\n",
       "    </tr>\n",
       "    <tr>\n",
       "      <th>785</th>\n",
       "      <td>2020</td>\n",
       "      <td>EN</td>\n",
       "      <td>Data Scientist</td>\n",
       "      <td>105000</td>\n",
       "      <td>100</td>\n",
       "      <td>S</td>\n",
       "    </tr>\n",
       "    <tr>\n",
       "      <th>786</th>\n",
       "      <td>2021</td>\n",
       "      <td>MI</td>\n",
       "      <td>Applied Machine Learning Scientist</td>\n",
       "      <td>38400</td>\n",
       "      <td>100</td>\n",
       "      <td>M</td>\n",
       "    </tr>\n",
       "    <tr>\n",
       "      <th>787</th>\n",
       "      <td>2021</td>\n",
       "      <td>EN</td>\n",
       "      <td>Data Scientist</td>\n",
       "      <td>4000</td>\n",
       "      <td>0</td>\n",
       "      <td>M</td>\n",
       "    </tr>\n",
       "  </tbody>\n",
       "</table>\n",
       "<p>788 rows × 6 columns</p>\n",
       "</div>"
      ],
      "text/plain": [
       "     work_year experience_level                           job_title  salary  \\\n",
       "0         2022               SE                   Data Science Lead  165000   \n",
       "1         2022               SE                       Data Engineer  185900   \n",
       "2         2022               SE                       Data Engineer  129300   \n",
       "3         2022               SE                        Data Analyst  169000   \n",
       "4         2022               SE                        Data Analyst  110600   \n",
       "..         ...              ...                                 ...     ...   \n",
       "783       2020               SE                      Data Scientist  412000   \n",
       "784       2021               MI            Principal Data Scientist  151000   \n",
       "785       2020               EN                      Data Scientist  105000   \n",
       "786       2021               MI  Applied Machine Learning Scientist   38400   \n",
       "787       2021               EN                      Data Scientist    4000   \n",
       "\n",
       "     remote_ratio company_size  \n",
       "0              50            S  \n",
       "1               0            M  \n",
       "2               0            M  \n",
       "3               0            M  \n",
       "4               0            M  \n",
       "..            ...          ...  \n",
       "783           100            L  \n",
       "784           100            L  \n",
       "785           100            S  \n",
       "786           100            M  \n",
       "787             0            M  \n",
       "\n",
       "[788 rows x 6 columns]"
      ]
     },
     "metadata": {},
     "output_type": "display_data"
    },
    {
     "data": {
      "text/plain": [
       "company_size\n",
       "L    172\n",
       "M    588\n",
       "S     28\n",
       "Name: company_size, dtype: int64"
      ]
     },
     "metadata": {},
     "output_type": "display_data"
    },
    {
     "data": {
      "text/plain": [
       "([<matplotlib.patches.Wedge at 0x130a2ce5850>,\n",
       "  <matplotlib.patches.Wedge at 0x130a2ce5f40>,\n",
       "  <matplotlib.patches.Wedge at 0x130a2cf2610>],\n",
       " [Text(0.8513538301622514, 0.6965605902346649, '172 Large companies'),\n",
       "  Text(-0.9236506814101473, -0.5973854858720379, '588 Medium companies'),\n",
       "  Text(1.0931533869791539, -0.1225384532952996, '28 Small companies')],\n",
       " [Text(0.4643748164521371, 0.379942140127999, '21.83%'),\n",
       "  Text(-0.503809462587353, -0.3258466286574752, '74.62%'),\n",
       "  Text(0.5962654838068112, -0.06683915634289068, '3.55%')])"
      ]
     },
     "execution_count": 10,
     "metadata": {},
     "output_type": "execute_result"
    },
    {
     "data": {
      "image/png": "[encoded data removed]",
      "text/plain": [
       "<Figure size 432x288 with 1 Axes>"
      ]
     },
     "metadata": {},
     "output_type": "display_data"
    }
   ],
   "source": [
    "\n",
    "\n",
    "import matplotlib.pyplot as plt\n",
    "import pandas as pd\n",
    "ndf = pd.read_csv('salaries.csv', delimiter = ',')\n",
    "display(ndf)\n",
    "df =  ndf.groupby(['company_size'])['company_size'].count()\n",
    "display(df)\n",
    "\n",
    "ddf = pd.DataFrame({'company_class':['172 Large companies','588 Medium companies','28 Small companies'],'number':[172,588,28]})\n",
    "plt.pie(ddf['number'],labels=ddf['company_class'],autopct='%.2f%%')"
   ]
  },
  {
   "cell_type": "code",
   "execution_count": 8,
   "id": "86afc5fc",
   "metadata": {},
   "outputs": [
    {
     "data": {
      "image/png": "[encoded data removed]",
      "text/plain": [
       "<PIL.Image.Image image mode=L size=859x1030 at 0x130A2253670>"
      ]
     },
     "execution_count": 8,
     "metadata": {},
     "output_type": "execute_result"
    }
   ],
   "source": [
    "\n",
    "\n",
    "from PIL import Image\n",
    "img = Image.open('mu (1).png')\n",
    "\n",
    "rot_img = img.rotate(60).show()\n",
    "\n",
    "img_gray = img.convert(\"L\")\n",
    "img_gray"
   ]
  },
  {
   "cell_type": "code",
   "execution_count": 5,
   "id": "ad591b89",
   "metadata": {},
   "outputs": [],
   "source": []
  },
  {
   "cell_type": "code",
   "execution_count": null,
   "id": "b606ebe5",
   "metadata": {},
   "outputs": [],
   "source": []
  }
 ],
 "metadata": {
  "kernelspec": {
   "display_name": "Python 3.10.8 64-bit (microsoft store)",
   "language": "python",
   "name": "python3"
  },
  "language_info": {
   "codemirror_mode": {
    "name": "ipython",
    "version": 3
   },
   "file_extension": ".py",
   "mimetype": "text/x-python",
   "name": "python",
   "nbconvert_exporter": "python",
   "pygments_lexer": "ipython3",
   "version": "3.10.8"
  },
  "vscode": {
   "interpreter": {
    "hash": "9c9203b3ed8ba4b0eb32f42d596e436cb693164f5a1f3b041dcb3caef80a651c"
   }
  }
 },
 "nbformat": 4,
 "nbformat_minor": 5
}
